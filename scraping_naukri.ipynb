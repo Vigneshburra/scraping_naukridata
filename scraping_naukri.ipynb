{
 "cells": [
  {
   "cell_type": "code",
   "execution_count": 1,
   "id": "4ae6356b-5979-4416-9e91-a414b1486952",
   "metadata": {},
   "outputs": [],
   "source": [
    "from selenium import webdriver\n",
    "from bs4 import BeautifulSoup"
   ]
  },
  {
   "cell_type": "code",
   "execution_count": 2,
   "id": "5dd189bd-d9a8-419e-a653-eabda19e460a",
   "metadata": {},
   "outputs": [],
   "source": [
    "driver = webdriver.Chrome()\n",
    "driver.get(\"https://www.naukri.com/fresher-jobs?src=gnbjobs_homepage_srch\")"
   ]
  },
  {
   "cell_type": "code",
   "execution_count": 3,
   "id": "cef872b4-7bc6-4af7-9ca8-276fc1f02311",
   "metadata": {},
   "outputs": [],
   "source": [
    "soup=BeautifulSoup(driver.page_source,'html.parser')"
   ]
  },
  {
   "cell_type": "code",
   "execution_count": 14,
   "id": "8599c255-2f10-4ee9-9fa8-1b7a19e6ef21",
   "metadata": {},
   "outputs": [],
   "source": [
    "name = \"row1\"\n",
    "location= \"ni-job-tuple-icon ni-job-tuple-icon-srp-location loc\"\n",
    "com = \" comp-name mw-25\""
   ]
  },
  {
   "cell_type": "code",
   "execution_count": 15,
   "id": "ca03541b-e4d2-41ad-8370-7c50e1ab3023",
   "metadata": {},
   "outputs": [],
   "source": [
    "company_names=soup.find_all(class_=name)\n",
    "company_location=soup.find_all(class_=location)\n",
    "com_name=soup.find_all(class_=com)"
   ]
  },
  {
   "cell_type": "code",
   "execution_count": 16,
   "id": "0c6098e2-23f2-4d60-9806-1eefee41dfc3",
   "metadata": {},
   "outputs": [],
   "source": [
    "job_title=[]\n",
    "for i in company_names:\n",
    "    job_title.append(i.text)\n",
    "\n",
    "job_location=[]\n",
    "for i in company_location:\n",
    "    job_location.append(i.text)\n",
    "\n",
    "comname=[]\n",
    "for i in com_name:\n",
    "    comname.append(i.text)"
   ]
  },
  {
   "cell_type": "code",
   "execution_count": 7,
   "id": "f889a110-aaa2-44e0-8ab0-b1b80253e534",
   "metadata": {},
   "outputs": [
    {
     "data": {
      "text/plain": [
       "['Product Marketing Intern',\n",
       " 'Pharmacist',\n",
       " 'Resident Emergency',\n",
       " 'Customer Support Executive',\n",
       " 'Field Sales Executive',\n",
       " 'Security Analyst',\n",
       " 'SAP MM Consultant',\n",
       " 'IT Recruiter',\n",
       " 'Consultant Gastroenterology',\n",
       " 'BOAT APPRENTICE TRAINEE',\n",
       " 'Assistant Executive Health Check Up',\n",
       " 'Ward Nurse',\n",
       " 'MICU Nurse',\n",
       " 'Customer Service Executive',\n",
       " 'Optometrist',\n",
       " 'Haskell / Plutus Developer',\n",
       " 'Associate',\n",
       " 'Supply Chain & QA Professional',\n",
       " 'Supply Chain & QA',\n",
       " 'Human Resources and L&D',\n",
       " 'Consultant Pathologist',\n",
       " 'Microbiologist',\n",
       " 'Store Development',\n",
       " 'Apprentice',\n",
       " 'Clinical Co-ordinator']"
      ]
     },
     "execution_count": 7,
     "metadata": {},
     "output_type": "execute_result"
    }
   ],
   "source": [
    "job_title #Job role from Naukri website "
   ]
  },
  {
   "cell_type": "code",
   "execution_count": 8,
   "id": "4fb0712b-64c4-4cb7-9af3-014b4d7cabef",
   "metadata": {},
   "outputs": [
    {
     "data": {
      "text/plain": [
       "['Kolkata, Mumbai, New Delhi, Hyderabad, Pune, Chennai, Bengaluru',\n",
       " 'Kolkata, Mumbai, New Delhi, Hyderabad, Pune, Chennai, Bengaluru',\n",
       " 'Kolkata, Mumbai, New Delhi, Hyderabad, Pune, Chennai, Bengaluru',\n",
       " 'Kolkata, Mumbai, New Delhi, Hyderabad, Pune, Chennai, Bengaluru',\n",
       " 'Kolkata, Mumbai, New Delhi, Hyderabad, Pune, Chennai, Bengaluru',\n",
       " 'Kolkata, Mumbai, New Delhi, Hyderabad, Pune, Chennai, Bengaluru',\n",
       " 'Kolkata, Mumbai, New Delhi, Hyderabad, Pune, Chennai, Bengaluru',\n",
       " 'Kolkata, Mumbai, New Delhi, Hyderabad, Pune, Chennai, Bengaluru',\n",
       " 'Kolkata, Mumbai, New Delhi, Hyderabad/Secunderabad, Pune, Chennai, Bangalore/Bengaluru',\n",
       " 'Kolkata, Mumbai, New Delhi, Hyderabad/Secunderabad, Pune, Chennai, Bangalore/Bengaluru',\n",
       " 'Kolkata, Mumbai, New Delhi, Hyderabad/Secunderabad, Pune, Chennai, Bangalore/Bengaluru',\n",
       " 'Kolkata, Mumbai, New Delhi, Hyderabad/Secunderabad, Pune, Chennai, Bangalore/Bengaluru',\n",
       " 'Kolkata, Mumbai, New Delhi, Hyderabad/Secunderabad, Pune, Chennai, Bangalore/Bengaluru',\n",
       " 'Kolkata, Mumbai, New Delhi, Hyderabad/Secunderabad, Pune, Chennai, Bangalore/Bengaluru',\n",
       " 'Kolkata, Mumbai, New Delhi, Hyderabad/Secunderabad, Pune, Chennai, Bangalore/Bengaluru',\n",
       " 'Kolkata, Mumbai, New Delhi, Hyderabad, Pune, Chennai, Bengaluru',\n",
       " 'Kolkata, Mumbai, New Delhi, Hyderabad, Pune, Chennai, Bengaluru',\n",
       " 'Kolkata, Mumbai, New Delhi, Hyderabad/Secunderabad, Pune, Chennai, Bangalore/Bengaluru',\n",
       " 'Kolkata, Mumbai, New Delhi, Hyderabad/Secunderabad, Pune, Chennai, Bangalore/Bengaluru',\n",
       " 'Kolkata, Mumbai, New Delhi, Hyderabad/Secunderabad, Pune, Chennai, Bangalore/Bengaluru']"
      ]
     },
     "execution_count": 8,
     "metadata": {},
     "output_type": "execute_result"
    }
   ],
   "source": [
    "job_location #locations of the above job roles"
   ]
  }
 ],
 "metadata": {
  "kernelspec": {
   "display_name": "Python 3 (ipykernel)",
   "language": "python",
   "name": "python3"
  },
  "language_info": {
   "codemirror_mode": {
    "name": "ipython",
    "version": 3
   },
   "file_extension": ".py",
   "mimetype": "text/x-python",
   "name": "python",
   "nbconvert_exporter": "python",
   "pygments_lexer": "ipython3",
   "version": "3.12.2"
  }
 },
 "nbformat": 4,
 "nbformat_minor": 5
}
